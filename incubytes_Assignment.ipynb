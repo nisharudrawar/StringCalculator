{
  "nbformat": 4,
  "nbformat_minor": 0,
  "metadata": {
    "colab": {
      "provenance": [],
      "collapsed_sections": [],
      "authorship_tag": "ABX9TyNlXLkPNkOXJc/ykT9cYJKK",
      "include_colab_link": true
    },
    "kernelspec": {
      "name": "python3",
      "display_name": "Python 3"
    },
    "language_info": {
      "name": "python"
    }
  },
  "cells": [
    {
      "cell_type": "markdown",
      "metadata": {
        "id": "view-in-github",
        "colab_type": "text"
      },
      "source": [
        "<a href=\"https://colab.research.google.com/github/nisharudrawar/StringCalculator/blob/main/incubytes_Assignment.ipynb\" target=\"_parent\"><img src=\"https://colab.research.google.com/assets/colab-badge.svg\" alt=\"Open In Colab\"/></a>"
      ]
    },
    {
      "cell_type": "code",
      "execution_count": 2,
      "metadata": {
        "colab": {
          "base_uri": "https://localhost:8080/"
        },
        "id": "Wm5d771x9tU1",
        "outputId": "6f38eb7f-3064-4c67-9c68-725c55d04366"
      },
      "outputs": [
        {
          "output_type": "stream",
          "name": "stdout",
          "text": [
            "Input1,2\n",
            "3\n"
          ]
        }
      ],
      "source": [
        "string1 = input(\"Input\")\n",
        "string1=string1.lower()\n",
        "if string1 ==\"\":\n",
        "  lst=[0]\n",
        "else:\n",
        "  lst=list(map(int,string1.split(\",\")))\n",
        "\n",
        "sum=0\n",
        "for i in lst:\n",
        "  sum+=i;\n",
        "\n",
        "print(sum)"
      ]
    }
  ]
}